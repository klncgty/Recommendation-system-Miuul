{
  "nbformat": 4,
  "nbformat_minor": 0,
  "metadata": {
    "colab": {
      "provenance": []
    },
    "kernelspec": {
      "name": "python3",
      "display_name": "Python 3"
    },
    "language_info": {
      "name": "python"
    }
  },
  "cells": [
    {
      "cell_type": "code",
      "execution_count": 3,
      "metadata": {
        "id": "2dndz7AtDmdK"
      },
      "outputs": [],
      "source": [
        "import pandas as pd\n",
        "import tiktoken\n",
        "import os\n",
        "import openai\n",
        "\n",
        "\n",
        "from langchain.chains import RetrievalQA\n",
        "from langchain.document_loaders import TextLoader\n",
        "from langchain.embeddings.openai import OpenAIEmbeddings\n",
        "from langchain.llms import OpenAI\n",
        "from langchain.text_splitter import CharacterTextSplitter\n",
        "from langchain.vectorstores import Chroma\n",
        "from langchain.document_loaders.csv_loader import CSVLoader"
      ]
    },
    {
      "cell_type": "code",
      "source": [
        "df = pd.read_csv(\"/content/kurslar.csv\")"
      ],
      "metadata": {
        "id": "nMVByhBOEx4T"
      },
      "execution_count": 4,
      "outputs": []
    },
    {
      "cell_type": "code",
      "source": [
        "df.head()"
      ],
      "metadata": {
        "colab": {
          "base_uri": "https://localhost:8080/",
          "height": 206
        },
        "id": "V-Q6wfpyFD5r",
        "outputId": "d8ca6f80-e73d-4257-941a-9bedc9c66955"
      },
      "execution_count": 5,
      "outputs": [
        {
          "output_type": "execute_result",
          "data": {
            "text/plain": [
              "                                                isim  \\\n",
              "0  Git, GitHub, GitLab ve Jira ile Profesyonel İş...   \n",
              "1                 Laravel SaaS Uygulaması Geliştirme   \n",
              "2       Beautiful Soup ve Selenium ile Web Scrapping   \n",
              "3                                    Robotik Kodlama   \n",
              "4  Veri Bilimi ve Makine Öğrenmesi İçin Lineer Cebir   \n",
              "\n",
              "                                            açıklama  \\\n",
              "0  Git, GitHub, GitLab ve Jira ile İş Akış Yöneti...   \n",
              "1  Günlük yaşantımızda oldukça fazla online hizme...   \n",
              "2  Bu eğitim, web sitelerinden veri çekme, düzenl...   \n",
              "3  Bu eğitim, Arduino tabanlı sistemlerle çalışma...   \n",
              "4  Günümüz iş dünyasında, Veri Bilimi ve Makine Ö...   \n",
              "\n",
              "                                                tags  \n",
              "0  ['git', 'Github', 'Gİtlab', 'Jira', 'iş akışı'...  \n",
              "1  ['Laravel', 'SaaS', 'PHP', 'Frontend', 'Backen...  \n",
              "2  ['HTML', 'Xpath', 'Beautiful Soup', 'Selenium'...  \n",
              "3  ['Robotik Kodlama', 'Arduino', 'Temel Elektron...  \n",
              "4  ['Lineer Cebir', 'Matris', 'Lineer denklem sis...  "
            ],
            "text/html": [
              "\n",
              "  <div id=\"df-f5555d2b-e6ce-47f4-ba9b-5517f64d596a\" class=\"colab-df-container\">\n",
              "    <div>\n",
              "<style scoped>\n",
              "    .dataframe tbody tr th:only-of-type {\n",
              "        vertical-align: middle;\n",
              "    }\n",
              "\n",
              "    .dataframe tbody tr th {\n",
              "        vertical-align: top;\n",
              "    }\n",
              "\n",
              "    .dataframe thead th {\n",
              "        text-align: right;\n",
              "    }\n",
              "</style>\n",
              "<table border=\"1\" class=\"dataframe\">\n",
              "  <thead>\n",
              "    <tr style=\"text-align: right;\">\n",
              "      <th></th>\n",
              "      <th>isim</th>\n",
              "      <th>açıklama</th>\n",
              "      <th>tags</th>\n",
              "    </tr>\n",
              "  </thead>\n",
              "  <tbody>\n",
              "    <tr>\n",
              "      <th>0</th>\n",
              "      <td>Git, GitHub, GitLab ve Jira ile Profesyonel İş...</td>\n",
              "      <td>Git, GitHub, GitLab ve Jira ile İş Akış Yöneti...</td>\n",
              "      <td>['git', 'Github', 'Gİtlab', 'Jira', 'iş akışı'...</td>\n",
              "    </tr>\n",
              "    <tr>\n",
              "      <th>1</th>\n",
              "      <td>Laravel SaaS Uygulaması Geliştirme</td>\n",
              "      <td>Günlük yaşantımızda oldukça fazla online hizme...</td>\n",
              "      <td>['Laravel', 'SaaS', 'PHP', 'Frontend', 'Backen...</td>\n",
              "    </tr>\n",
              "    <tr>\n",
              "      <th>2</th>\n",
              "      <td>Beautiful Soup ve Selenium ile Web Scrapping</td>\n",
              "      <td>Bu eğitim, web sitelerinden veri çekme, düzenl...</td>\n",
              "      <td>['HTML', 'Xpath', 'Beautiful Soup', 'Selenium'...</td>\n",
              "    </tr>\n",
              "    <tr>\n",
              "      <th>3</th>\n",
              "      <td>Robotik Kodlama</td>\n",
              "      <td>Bu eğitim, Arduino tabanlı sistemlerle çalışma...</td>\n",
              "      <td>['Robotik Kodlama', 'Arduino', 'Temel Elektron...</td>\n",
              "    </tr>\n",
              "    <tr>\n",
              "      <th>4</th>\n",
              "      <td>Veri Bilimi ve Makine Öğrenmesi İçin Lineer Cebir</td>\n",
              "      <td>Günümüz iş dünyasında, Veri Bilimi ve Makine Ö...</td>\n",
              "      <td>['Lineer Cebir', 'Matris', 'Lineer denklem sis...</td>\n",
              "    </tr>\n",
              "  </tbody>\n",
              "</table>\n",
              "</div>\n",
              "    <div class=\"colab-df-buttons\">\n",
              "\n",
              "  <div class=\"colab-df-container\">\n",
              "    <button class=\"colab-df-convert\" onclick=\"convertToInteractive('df-f5555d2b-e6ce-47f4-ba9b-5517f64d596a')\"\n",
              "            title=\"Convert this dataframe to an interactive table.\"\n",
              "            style=\"display:none;\">\n",
              "\n",
              "  <svg xmlns=\"http://www.w3.org/2000/svg\" height=\"24px\" viewBox=\"0 -960 960 960\">\n",
              "    <path d=\"M120-120v-720h720v720H120Zm60-500h600v-160H180v160Zm220 220h160v-160H400v160Zm0 220h160v-160H400v160ZM180-400h160v-160H180v160Zm440 0h160v-160H620v160ZM180-180h160v-160H180v160Zm440 0h160v-160H620v160Z\"/>\n",
              "  </svg>\n",
              "    </button>\n",
              "\n",
              "  <style>\n",
              "    .colab-df-container {\n",
              "      display:flex;\n",
              "      gap: 12px;\n",
              "    }\n",
              "\n",
              "    .colab-df-convert {\n",
              "      background-color: #E8F0FE;\n",
              "      border: none;\n",
              "      border-radius: 50%;\n",
              "      cursor: pointer;\n",
              "      display: none;\n",
              "      fill: #1967D2;\n",
              "      height: 32px;\n",
              "      padding: 0 0 0 0;\n",
              "      width: 32px;\n",
              "    }\n",
              "\n",
              "    .colab-df-convert:hover {\n",
              "      background-color: #E2EBFA;\n",
              "      box-shadow: 0px 1px 2px rgba(60, 64, 67, 0.3), 0px 1px 3px 1px rgba(60, 64, 67, 0.15);\n",
              "      fill: #174EA6;\n",
              "    }\n",
              "\n",
              "    .colab-df-buttons div {\n",
              "      margin-bottom: 4px;\n",
              "    }\n",
              "\n",
              "    [theme=dark] .colab-df-convert {\n",
              "      background-color: #3B4455;\n",
              "      fill: #D2E3FC;\n",
              "    }\n",
              "\n",
              "    [theme=dark] .colab-df-convert:hover {\n",
              "      background-color: #434B5C;\n",
              "      box-shadow: 0px 1px 3px 1px rgba(0, 0, 0, 0.15);\n",
              "      filter: drop-shadow(0px 1px 2px rgba(0, 0, 0, 0.3));\n",
              "      fill: #FFFFFF;\n",
              "    }\n",
              "  </style>\n",
              "\n",
              "    <script>\n",
              "      const buttonEl =\n",
              "        document.querySelector('#df-f5555d2b-e6ce-47f4-ba9b-5517f64d596a button.colab-df-convert');\n",
              "      buttonEl.style.display =\n",
              "        google.colab.kernel.accessAllowed ? 'block' : 'none';\n",
              "\n",
              "      async function convertToInteractive(key) {\n",
              "        const element = document.querySelector('#df-f5555d2b-e6ce-47f4-ba9b-5517f64d596a');\n",
              "        const dataTable =\n",
              "          await google.colab.kernel.invokeFunction('convertToInteractive',\n",
              "                                                    [key], {});\n",
              "        if (!dataTable) return;\n",
              "\n",
              "        const docLinkHtml = 'Like what you see? Visit the ' +\n",
              "          '<a target=\"_blank\" href=https://colab.research.google.com/notebooks/data_table.ipynb>data table notebook</a>'\n",
              "          + ' to learn more about interactive tables.';\n",
              "        element.innerHTML = '';\n",
              "        dataTable['output_type'] = 'display_data';\n",
              "        await google.colab.output.renderOutput(dataTable, element);\n",
              "        const docLink = document.createElement('div');\n",
              "        docLink.innerHTML = docLinkHtml;\n",
              "        element.appendChild(docLink);\n",
              "      }\n",
              "    </script>\n",
              "  </div>\n",
              "\n",
              "\n",
              "<div id=\"df-b6046e6a-2c6d-42a5-b593-707ea47795e4\">\n",
              "  <button class=\"colab-df-quickchart\" onclick=\"quickchart('df-b6046e6a-2c6d-42a5-b593-707ea47795e4')\"\n",
              "            title=\"Suggest charts\"\n",
              "            style=\"display:none;\">\n",
              "\n",
              "<svg xmlns=\"http://www.w3.org/2000/svg\" height=\"24px\"viewBox=\"0 0 24 24\"\n",
              "     width=\"24px\">\n",
              "    <g>\n",
              "        <path d=\"M19 3H5c-1.1 0-2 .9-2 2v14c0 1.1.9 2 2 2h14c1.1 0 2-.9 2-2V5c0-1.1-.9-2-2-2zM9 17H7v-7h2v7zm4 0h-2V7h2v10zm4 0h-2v-4h2v4z\"/>\n",
              "    </g>\n",
              "</svg>\n",
              "  </button>\n",
              "\n",
              "<style>\n",
              "  .colab-df-quickchart {\n",
              "      --bg-color: #E8F0FE;\n",
              "      --fill-color: #1967D2;\n",
              "      --hover-bg-color: #E2EBFA;\n",
              "      --hover-fill-color: #174EA6;\n",
              "      --disabled-fill-color: #AAA;\n",
              "      --disabled-bg-color: #DDD;\n",
              "  }\n",
              "\n",
              "  [theme=dark] .colab-df-quickchart {\n",
              "      --bg-color: #3B4455;\n",
              "      --fill-color: #D2E3FC;\n",
              "      --hover-bg-color: #434B5C;\n",
              "      --hover-fill-color: #FFFFFF;\n",
              "      --disabled-bg-color: #3B4455;\n",
              "      --disabled-fill-color: #666;\n",
              "  }\n",
              "\n",
              "  .colab-df-quickchart {\n",
              "    background-color: var(--bg-color);\n",
              "    border: none;\n",
              "    border-radius: 50%;\n",
              "    cursor: pointer;\n",
              "    display: none;\n",
              "    fill: var(--fill-color);\n",
              "    height: 32px;\n",
              "    padding: 0;\n",
              "    width: 32px;\n",
              "  }\n",
              "\n",
              "  .colab-df-quickchart:hover {\n",
              "    background-color: var(--hover-bg-color);\n",
              "    box-shadow: 0 1px 2px rgba(60, 64, 67, 0.3), 0 1px 3px 1px rgba(60, 64, 67, 0.15);\n",
              "    fill: var(--button-hover-fill-color);\n",
              "  }\n",
              "\n",
              "  .colab-df-quickchart-complete:disabled,\n",
              "  .colab-df-quickchart-complete:disabled:hover {\n",
              "    background-color: var(--disabled-bg-color);\n",
              "    fill: var(--disabled-fill-color);\n",
              "    box-shadow: none;\n",
              "  }\n",
              "\n",
              "  .colab-df-spinner {\n",
              "    border: 2px solid var(--fill-color);\n",
              "    border-color: transparent;\n",
              "    border-bottom-color: var(--fill-color);\n",
              "    animation:\n",
              "      spin 1s steps(1) infinite;\n",
              "  }\n",
              "\n",
              "  @keyframes spin {\n",
              "    0% {\n",
              "      border-color: transparent;\n",
              "      border-bottom-color: var(--fill-color);\n",
              "      border-left-color: var(--fill-color);\n",
              "    }\n",
              "    20% {\n",
              "      border-color: transparent;\n",
              "      border-left-color: var(--fill-color);\n",
              "      border-top-color: var(--fill-color);\n",
              "    }\n",
              "    30% {\n",
              "      border-color: transparent;\n",
              "      border-left-color: var(--fill-color);\n",
              "      border-top-color: var(--fill-color);\n",
              "      border-right-color: var(--fill-color);\n",
              "    }\n",
              "    40% {\n",
              "      border-color: transparent;\n",
              "      border-right-color: var(--fill-color);\n",
              "      border-top-color: var(--fill-color);\n",
              "    }\n",
              "    60% {\n",
              "      border-color: transparent;\n",
              "      border-right-color: var(--fill-color);\n",
              "    }\n",
              "    80% {\n",
              "      border-color: transparent;\n",
              "      border-right-color: var(--fill-color);\n",
              "      border-bottom-color: var(--fill-color);\n",
              "    }\n",
              "    90% {\n",
              "      border-color: transparent;\n",
              "      border-bottom-color: var(--fill-color);\n",
              "    }\n",
              "  }\n",
              "</style>\n",
              "\n",
              "  <script>\n",
              "    async function quickchart(key) {\n",
              "      const quickchartButtonEl =\n",
              "        document.querySelector('#' + key + ' button');\n",
              "      quickchartButtonEl.disabled = true;  // To prevent multiple clicks.\n",
              "      quickchartButtonEl.classList.add('colab-df-spinner');\n",
              "      try {\n",
              "        const charts = await google.colab.kernel.invokeFunction(\n",
              "            'suggestCharts', [key], {});\n",
              "      } catch (error) {\n",
              "        console.error('Error during call to suggestCharts:', error);\n",
              "      }\n",
              "      quickchartButtonEl.classList.remove('colab-df-spinner');\n",
              "      quickchartButtonEl.classList.add('colab-df-quickchart-complete');\n",
              "    }\n",
              "    (() => {\n",
              "      let quickchartButtonEl =\n",
              "        document.querySelector('#df-b6046e6a-2c6d-42a5-b593-707ea47795e4 button');\n",
              "      quickchartButtonEl.style.display =\n",
              "        google.colab.kernel.accessAllowed ? 'block' : 'none';\n",
              "    })();\n",
              "  </script>\n",
              "</div>\n",
              "    </div>\n",
              "  </div>\n"
            ]
          },
          "metadata": {},
          "execution_count": 5
        }
      ]
    },
    {
      "cell_type": "code",
      "source": [
        "df['combined_info'] = df.apply(lambda row: f\"isim: {row['isim']}. açıklama: {row['açıklama']} tags: {row['tags']}\", axis=1)\n",
        "df['combined_info'][0:2]"
      ],
      "metadata": {
        "colab": {
          "base_uri": "https://localhost:8080/"
        },
        "id": "l2Jf8CWLFIBH",
        "outputId": "ec186199-c357-4bfc-b538-2a0934098179"
      },
      "execution_count": 40,
      "outputs": [
        {
          "output_type": "execute_result",
          "data": {
            "text/plain": [
              "0    isim: Git, GitHub, GitLab ve Jira ile Profesyo...\n",
              "1    isim: Laravel SaaS Uygulaması Geliştirme. açık...\n",
              "Name: combined_info, dtype: object"
            ]
          },
          "metadata": {},
          "execution_count": 40
        }
      ]
    },
    {
      "cell_type": "code",
      "source": [
        "df[['combined_info']].to_csv('df_up.csv', index=False)"
      ],
      "metadata": {
        "id": "ZSVlT2r4FuYd"
      },
      "execution_count": 8,
      "outputs": []
    },
    {
      "cell_type": "code",
      "source": [
        "loader = CSVLoader(file_path=\"/content/df_up.csv\")\n",
        "data = loader.load()"
      ],
      "metadata": {
        "id": "ZlPw04LQF-_a"
      },
      "execution_count": 9,
      "outputs": []
    },
    {
      "cell_type": "code",
      "source": [
        "text_splitter = CharacterTextSplitter(chunk_size=1000, chunk_overlap=0)\n",
        "texts = text_splitter.split_documents(data)"
      ],
      "metadata": {
        "id": "g827NWvEF_LQ"
      },
      "execution_count": 10,
      "outputs": []
    },
    {
      "cell_type": "code",
      "source": [
        "api_key = \"openai_key\""
      ],
      "metadata": {
        "id": "6y0XTC4f3vNb"
      },
      "execution_count": null,
      "outputs": []
    },
    {
      "cell_type": "code",
      "source": [
        "embeddings = OpenAIEmbeddings(openai_api_key=api_key)\n",
        "llm = OpenAI(openai_api_key=api_key)"
      ],
      "metadata": {
        "id": "Rsk-Q96gGMf6"
      },
      "execution_count": 11,
      "outputs": []
    },
    {
      "cell_type": "code",
      "source": [
        "docsearch = Chroma.from_documents(texts, embeddings)"
      ],
      "metadata": {
        "id": "Hcnian2qGaZD"
      },
      "execution_count": 14,
      "outputs": []
    },
    {
      "cell_type": "code",
      "source": [
        "### 1-- benzerlik tabanlı metin eşleştirmesiyle öneri\n",
        "\n",
        "query = \"sql öğrenmek istyiorum?\"\n",
        "docs = docsearch.similarity_search(query, k=1)\n",
        "if docs:\n",
        "    result = docs[0].page_content.split(\"isim:\")[1].split(\".\")[0].strip()\n",
        "    print(f\"--{result}-- sizin için en uygun eğitim olacaktır!\")"
      ],
      "metadata": {
        "colab": {
          "base_uri": "https://localhost:8080/"
        },
        "id": "PGaK3V-bGsaO",
        "outputId": "24755b77-cff5-4348-ff2a-f50e8291b9cc"
      },
      "execution_count": 25,
      "outputs": [
        {
          "output_type": "stream",
          "name": "stdout",
          "text": [
            "--MS SQL Sorgulama-- sizin için en uygun eğitim olacaktır!\n"
          ]
        }
      ]
    },
    {
      "cell_type": "code",
      "source": [
        "import os\n",
        "\n",
        "os.environ['OPENAI_API_KEY'] = api_key\n",
        "\n",
        "from langchain.chat_models import ChatOpenAI\n",
        "\n",
        "llm = ChatOpenAI(model_name='gpt-3.5-turbo', temperature=0)\n",
        "\n",
        "\n",
        "qa = RetrievalQA.from_chain_type(llm,\n",
        "                                 chain_type=\"stuff\",\n",
        "                                 retriever=docsearch.as_retriever(),\n",
        "                                 return_source_documents=True)"
      ],
      "metadata": {
        "id": "aHAfpjnmxzze"
      },
      "execution_count": 27,
      "outputs": []
    },
    {
      "cell_type": "code",
      "source": [
        "### 2 -- Kulllanıcı bilgisi almadan sadece prompt ile sorgulayarak öneri\n",
        "\n",
        "\n",
        "from langchain.prompts import PromptTemplate\n",
        "\n",
        "template = \"\"\"Sen veribilimi eğitimi veren bir kurumda kişiye özel kurs önerisinde bulunan, kurs tavsiyesi verne bir danışmansın.\n",
        "Soruyu cevaplamak için söylediğim direktifleri uygula.\n",
        "Her bir soru için 2 kurs öner.\n",
        "Eğer sana sorulan soruyu cevaplayamayacaksan gereksiz bir sonuç üretme.\n",
        "\n",
        "{context}\n",
        "\n",
        "Question: {question}\n",
        "Your response:\"\"\"\n",
        "\n",
        "\n",
        "\n",
        "PROMPT = PromptTemplate(\n",
        "    template=template, input_variables=[\"context\", \"question\"])\n",
        "\n",
        "chain_type_kwargs = {\"prompt\": PROMPT}\n",
        "\n",
        "llm=ChatOpenAI(model_name='gpt-3.5-turbo', temperature=0)\n",
        "\n",
        "qa = RetrievalQA.from_chain_type(llm=llm,\n",
        "    chain_type=\"stuff\",\n",
        "    retriever=docsearch.as_retriever(),\n",
        "    return_source_documents=True,\n",
        "    chain_type_kwargs=chain_type_kwargs)\n",
        "\n",
        "query = \"veri analizi öğrenmek istiyorum. Önce  hangi kursu almalıyım?\"\n",
        "result = qa({'query':query})\n",
        "print(result['result'])"
      ],
      "metadata": {
        "colab": {
          "base_uri": "https://localhost:8080/"
        },
        "id": "sAcL6AXLyFMF",
        "outputId": "0f4dcb3d-216a-4c2d-d75f-912981e3cc3f"
      },
      "execution_count": 28,
      "outputs": [
        {
          "output_type": "stream",
          "name": "stdout",
          "text": [
            "Veri analizi öğrenmek istiyorsanız, size iki kurs önerim var:\n",
            "\n",
            "1. Ölçümleme Problemleri: Bu kurs, analistlerin nicel ölçümleri nasıl oluşturup değerlendirebileceklerini öğretir. Farklı ölçüm seviyelerine ve değişkenleri dönüştürmenin yollarına genel bir bakış edinirsiniz. Ayrıca, çalışmaya değer kavramlar için ölçütler geliştirmeyi ve eleştirel olarak değerlendirmeyi öğrenirsiniz. Bu kurs, veri analizi için temel bir altyapı sağlar.\n",
            "\n",
            "2. Özellik Mühendisliği: Bu kurs, veri temizliği ve değişken mühendisliği gibi veri bilimi süreçlerinin önemli bir kısmını kapsar. Ham veriyi temizleyerek, ilgili veriden yeni özellikler çıkarmayı ve modele girmeye uygun olmayan değişkenleri dönüştürmeyi öğrenirsiniz. Bu kurs, veri setini makine öğrenmesi modellerine girmeye uygun hale getirme konusunda size gerekli becerileri kazandırır.\n",
            "\n",
            "Bu iki kurs, veri analizi konusunda temel bilgileri edinmeniz için iyi bir başlangıç olacaktır.\n"
          ]
        }
      ]
    },
    {
      "cell_type": "code",
      "source": [
        "### 3 ---Kullanıcı bilgisi ile daha detaylı oalbilecek prompt'lu sorgulayara öneri\n",
        "\n",
        "\n",
        "\n",
        "from langchain.prompts import PromptTemplate\n",
        "\n",
        "template_prefix = \"\"\"Sen veribilimi eğitimi veren bir kurumda kişiye özel kurs önerisinde bulunan, kurs tavsiyesi verne bir danışmansın.\n",
        "Soruyu cevaplamak için söylediğim direktifleri uygula.\n",
        "Her bir soru için 2 kurs öner.\n",
        "Eğer sana sorulan soruyu cevaplayamayacaksan gereksiz bir sonuç üretme.\n",
        "\n",
        "{context}\"\"\"\n",
        "\n",
        "user_info = \"\"\"Aşağıdaki bilgiler sana soru soran kullanıcının bilgileri, bu bilgilere en uygun şekilde kurs öner:\n",
        "Eğitim seviyesi: {Eğitim_Seviyesi}\n",
        "Programlama bilgisi: {Programlama_seviyesi}\"\"\"\n",
        "\n",
        "template_suffix= \"\"\"Question: {question}\n",
        "Your response:\"\"\"\n",
        "\n",
        "user_info = user_info.format(Eğitim_Seviyesi = 'Lisans', Programlama_seviyesi=\"iyi\")\n",
        "\n",
        "COMBINED_PROMPT = template_prefix +'\\n'+ user_info +'\\n'+ template_suffix\n",
        "print(COMBINED_PROMPT)\n",
        "\n"
      ],
      "metadata": {
        "colab": {
          "base_uri": "https://localhost:8080/"
        },
        "id": "03c7uamS013e",
        "outputId": "a69d09c5-c698-4aff-f263-c7eac456b027"
      },
      "execution_count": 33,
      "outputs": [
        {
          "output_type": "stream",
          "name": "stdout",
          "text": [
            "Sen veribilimi eğitimi veren bir kurumda kişiye özel kurs önerisinde bulunan, kurs tavsiyesi verne bir danışmansın. \n",
            "Soruyu cevaplamak için söylediğim direktifleri uygula.\n",
            "Her bir soru için 2 kurs öner. \n",
            "Eğer sana sorulan soruyu cevaplayamayacaksan gereksiz bir sonuç üretme.\n",
            "\n",
            "{context}\n",
            "Aşağıdaki bilgiler sana soru soran kullanıcının bilgileri, bu bilgilere en uygun şekilde kurs öner:\n",
            "Eğitim seviyesi: Lisans\n",
            "Programlama bilgisi: iyi\n",
            "Question: {question}\n",
            "Your response:\n"
          ]
        }
      ]
    },
    {
      "cell_type": "code",
      "source": [
        "PROMPT = PromptTemplate(\n",
        "    template=COMBINED_PROMPT, input_variables=[\"context\", \"question\"])\n",
        "\n",
        "chain_type_kwargs = {\"prompt\": PROMPT}\n",
        "qa = RetrievalQA.from_chain_type(llm=llm,\n",
        "    chain_type=\"stuff\",\n",
        "    retriever=docsearch.as_retriever(),\n",
        "    return_source_documents=True,\n",
        "    chain_type_kwargs=chain_type_kwargs)\n",
        "\n",
        "query = \"veri analizi öğrenmek istiyorum. Önce  hangi kursu almalıyım?\"\n",
        "result = qa({'query':query})\n",
        "print(result['result'])"
      ],
      "metadata": {
        "colab": {
          "base_uri": "https://localhost:8080/"
        },
        "id": "p49tARNE129m",
        "outputId": "132adfd7-1108-44f8-deb9-bbffb1d5c417"
      },
      "execution_count": 34,
      "outputs": [
        {
          "output_type": "stream",
          "name": "stdout",
          "text": [
            "Veri analizi öğrenmek istiyorsanız, size iki kurs önerim var:\n",
            "\n",
            "1. Ölçümleme Problemleri: Bu kurs, analistlerin nicel ölçümleri nasıl oluşturup değerlendirebileceklerini öğretir. Bu kurs, veri analizi sürecinde karşılaşabileceğiniz karmaşık kavramları anlamanıza yardımcı olacak ve farklı ölçüm seviyelerine ve değişkenleri dönüştürmenin yollarını keşfetmenizi sağlayacaktır.\n",
            "\n",
            "2. Özellik Mühendisliği: Bu kurs, veri temizliği ve değişken mühendisliği gibi veri bilimi süreçlerinin önemli bir kısmını kapsar. Bu kurs, ham veriyi temizleyerek, ilgili veriden yeni özellikler çıkarmayı ve modele girmeye uygun olmayan değişkenleri dönüştürmeyi öğretir. Veri setini bir makine öğrenmesi modeline girmeye uygun hale getirme konusunda size gerekli altyapıyı sağlayacaktır.\n",
            "\n",
            "Bu iki kurs, veri analizi konusunda temel bilgileri edinmeniz için iyi bir başlangıç olacaktır. İyi bir analiz için iyi ölçümler ve veri setinin uygun hale getirilmesi önemlidir. Bu kurslar size bu konularda gerekli becerileri kazandıracaktır.\n"
          ]
        }
      ]
    }
  ]
}